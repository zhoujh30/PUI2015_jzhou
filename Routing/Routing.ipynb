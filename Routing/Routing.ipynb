{
 "cells": [
  {
   "cell_type": "code",
   "execution_count": 2,
   "metadata": {
    "collapsed": false
   },
   "outputs": [],
   "source": [
    "# Let's import the packages.\n",
    "import networkx as nx\n",
    "import numpy as np\n",
    "import pandas as pd\n",
    "import json\n",
    "import smopy\n",
    "import matplotlib.pyplot as plt\n",
    "%matplotlib inline\n",
    "import matplotlib as mpl\n",
    "# from osgeo import ogr\n",
    "# from osgeo import gdal\n",
    "mpl.rcParams['figure.dpi'] = mpl.rcParams['savefig.dpi'] = 300"
   ]
  },
  {
   "cell_type": "code",
   "execution_count": 3,
   "metadata": {
    "collapsed": false
   },
   "outputs": [
    {
     "ename": "ImportError",
     "evalue": "read_shp requires OGR: http://www.gdal.org/",
     "output_type": "error",
     "traceback": [
      "\u001b[0;31m---------------------------------------------------------------------------\u001b[0m",
      "\u001b[0;31mImportError\u001b[0m                               Traceback (most recent call last)",
      "\u001b[0;32m<ipython-input-3-0117bad9e9e6>\u001b[0m in \u001b[0;36m<module>\u001b[0;34m()\u001b[0m\n\u001b[1;32m      2\u001b[0m \u001b[0;31m# roads in California. NetworkX's read_shp function returns a graph, where each node is a geographical position, and\u001b[0m\u001b[0;34m\u001b[0m\u001b[0;34m\u001b[0m\u001b[0m\n\u001b[1;32m      3\u001b[0m \u001b[0;31m# each edge contains information about the road linking the two nodes.\u001b[0m\u001b[0;34m\u001b[0m\u001b[0;34m\u001b[0m\u001b[0m\n\u001b[0;32m----> 4\u001b[0;31m \u001b[0mg\u001b[0m \u001b[0;34m=\u001b[0m \u001b[0mnx\u001b[0m\u001b[0;34m.\u001b[0m\u001b[0mread_shp\u001b[0m\u001b[0;34m(\u001b[0m\u001b[0;34m\"prisecroads/tl_2015_36_prisecroads.shp\"\u001b[0m\u001b[0;34m)\u001b[0m\u001b[0;34m\u001b[0m\u001b[0m\n\u001b[0m",
      "\u001b[0;32m/Users/JianhaoZhou/anaconda/lib/python2.7/site-packages/networkx/readwrite/nx_shp.pyc\u001b[0m in \u001b[0;36mread_shp\u001b[0;34m(path)\u001b[0m\n\u001b[1;32m     54\u001b[0m         \u001b[0;32mfrom\u001b[0m \u001b[0mosgeo\u001b[0m \u001b[0;32mimport\u001b[0m \u001b[0mogr\u001b[0m\u001b[0;34m\u001b[0m\u001b[0m\n\u001b[1;32m     55\u001b[0m     \u001b[0;32mexcept\u001b[0m \u001b[0mImportError\u001b[0m\u001b[0;34m:\u001b[0m\u001b[0;34m\u001b[0m\u001b[0m\n\u001b[0;32m---> 56\u001b[0;31m         \u001b[0;32mraise\u001b[0m \u001b[0mImportError\u001b[0m\u001b[0;34m(\u001b[0m\u001b[0;34m\"read_shp requires OGR: http://www.gdal.org/\"\u001b[0m\u001b[0;34m)\u001b[0m\u001b[0;34m\u001b[0m\u001b[0m\n\u001b[0m\u001b[1;32m     57\u001b[0m \u001b[0;34m\u001b[0m\u001b[0m\n\u001b[1;32m     58\u001b[0m     \u001b[0mnet\u001b[0m \u001b[0;34m=\u001b[0m \u001b[0mnx\u001b[0m\u001b[0;34m.\u001b[0m\u001b[0mDiGraph\u001b[0m\u001b[0;34m(\u001b[0m\u001b[0;34m)\u001b[0m\u001b[0;34m\u001b[0m\u001b[0m\n",
      "\u001b[0;31mImportError\u001b[0m: read_shp requires OGR: http://www.gdal.org/"
     ]
    }
   ],
   "source": [
    "# We load the data (a Shapefile dataset) with NetworkX. This dataset contains detailed information about the primary \n",
    "# roads in California. NetworkX's read_shp function returns a graph, where each node is a geographical position, and \n",
    "# each edge contains information about the road linking the two nodes.\n",
    "g = nx.read_shp(\"prisecroads/tl_2015_36_prisecroads.shp\")"
   ]
  },
  {
   "cell_type": "code",
   "execution_count": null,
   "metadata": {
    "collapsed": false
   },
   "outputs": [],
   "source": [
    "# This graph is not necessarily connected, but we need a connected graph in order to compute shortest paths. Here, we \n",
    "# take the largest connected subgraph using the connected_component_subgraphs function.\n",
    "sg = list(nx.connected_component_subgraphs(g.to_undirected()))[0]\n",
    "len(sg)"
   ]
  },
  {
   "cell_type": "code",
   "execution_count": null,
   "metadata": {
    "collapsed": true
   },
   "outputs": [],
   "source": [
    "# We define two positions (with the latitude and longitude). We will find the shortest path between these two positions. \n",
    "pos0 = (36.6026, -121.9026)\n",
    "pos1 = (34.0569, -118.2427)"
   ]
  },
  {
   "cell_type": "code",
   "execution_count": null,
   "metadata": {
    "collapsed": true
   },
   "outputs": [],
   "source": [
    "# Each edge in the graph contains information about the road, including a list of points along this road. We first create \n",
    "# a function that returns this array of coordinates, for any edge in the graph.\n",
    "def get_path(n0, n1):\n",
    "    \"\"\"If n0 and n1 are connected nodes in the graph, this function\n",
    "    return an array of point coordinates along the road linking\n",
    "    these two nodes.\"\"\"\n",
    "    return np.array(json.loads(sg[n0][n1]['Json'])['coordinates'])"
   ]
  },
  {
   "cell_type": "code",
   "execution_count": null,
   "metadata": {
    "collapsed": true
   },
   "outputs": [],
   "source": [
    "# We will notably use the road path to compute its length. We first need to define a function that computes the distance \n",
    "# between any two points in geographical coordinates. This function has been found in StackOverflow.\n",
    "EARTH_R = 6372.8\n",
    "def geocalc(lat0, lon0, lat1, lon1):\n",
    "    \"\"\"Return the distance (in km) between two points in \n",
    "    geographical coordinates.\"\"\"\n",
    "    lat0 = np.radians(lat0)\n",
    "    lon0 = np.radians(lon0)\n",
    "    lat1 = np.radians(lat1)\n",
    "    lon1 = np.radians(lon1)\n",
    "    dlon = lon0 - lon1\n",
    "    y = np.sqrt(\n",
    "        (np.cos(lat1) * np.sin(dlon)) ** 2\n",
    "         + (np.cos(lat0) * np.sin(lat1) \n",
    "         - np.sin(lat0) * np.cos(lat1) * np.cos(dlon)) ** 2)\n",
    "    x = np.sin(lat0) * np.sin(lat1) + \\\n",
    "        np.cos(lat0) * np.cos(lat1) * np.cos(dlon)\n",
    "    c = np.arctan2(y, x)\n",
    "    return EARTH_R * c"
   ]
  },
  {
   "cell_type": "code",
   "execution_count": null,
   "metadata": {
    "collapsed": true
   },
   "outputs": [],
   "source": [
    "# Now, we define a function computing a path's length.\n",
    "def get_path_length(path):\n",
    "\treturn np.sum(geocalc(path[1:,0], path[1:,1],\n",
    "                          path[:-1,0], path[:-1,1]))"
   ]
  },
  {
   "cell_type": "code",
   "execution_count": null,
   "metadata": {
    "collapsed": true
   },
   "outputs": [],
   "source": [
    "# Now, we update our graph by computing the distance between any two connected nodes. We add this information in the \n",
    "# distance attribute of the edges.\n",
    "# Compute the length of the road segments.\n",
    "for n0, n1 in sg.edges_iter():\n",
    "    path = get_path(n0, n1)\n",
    "    distance = get_path_length(path)\n",
    "    sg.edge[n0][n1]['distance'] = distance"
   ]
  },
  {
   "cell_type": "code",
   "execution_count": null,
   "metadata": {
    "collapsed": true
   },
   "outputs": [],
   "source": [
    "# The last step before we can find the shortest path in the graph, is to find the two nodes in the graph that are \n",
    "# closest to the two requested positions.\n",
    "nodes = np.array(sg.nodes())\n",
    "# Get the closest nodes in the graph.\n",
    "pos0_i = np.argmin(np.sum((nodes[:,::-1] - pos0)**2, axis=1))\n",
    "pos1_i = np.argmin(np.sum((nodes[:,::-1] - pos1)**2, axis=1))"
   ]
  },
  {
   "cell_type": "code",
   "execution_count": null,
   "metadata": {
    "collapsed": true
   },
   "outputs": [],
   "source": [
    "# Now, we use NetworkX's shortest_path function to compute the shortest path between our two positions. We specify that \n",
    "# the weight of every edge is the length of the road between them.\n",
    "# Compute the shortest path.\n",
    "path = nx.shortest_path(sg, \n",
    "                        source=tuple(nodes[pos0_i]), \n",
    "                        target=tuple(nodes[pos1_i]),\n",
    "                        weight='distance')\n",
    "len(path)"
   ]
  },
  {
   "cell_type": "code",
   "execution_count": null,
   "metadata": {
    "collapsed": true
   },
   "outputs": [],
   "source": [
    "# The itinerary has been computed. The path variable contains the list of edges that form the shortest path between our \n",
    "# two positions. Now, we can get information about the itinerary with Pandas. The dataset has a few fields of interest, \n",
    "# including the name and type (State, Interstate, etc.) of the roads.\n",
    "roads = pd.DataFrame([sg.edge[path[i]][path[i + 1]] \n",
    "                      for i in range(len(path) - 1)], \n",
    "                     columns=['FULLNAME', 'MTFCC', \n",
    "                              'RTTYP', 'distance'])\n",
    "roads\n"
   ]
  },
  {
   "cell_type": "code",
   "execution_count": null,
   "metadata": {
    "collapsed": true
   },
   "outputs": [],
   "source": [
    "# Here is the total length of this itinerary.\n",
    "roads['distance'].sum()\n",
    "\n"
   ]
  },
  {
   "cell_type": "code",
   "execution_count": null,
   "metadata": {
    "collapsed": true
   },
   "outputs": [],
   "source": [
    "# Finally, let display the itinerary on the map. We first retrieve the map with Smopy.\n",
    "map = smopy.Map(pos0, pos1, z=7, margin=.1)"
   ]
  },
  {
   "cell_type": "code",
   "execution_count": null,
   "metadata": {
    "collapsed": true
   },
   "outputs": [],
   "source": [
    "# Our path contains connected nodes in the graph. Every edge between two nodes is characterized by a list of points \n",
    "# (constituting a part of the road). Therefore, we need to define a function that concatenates the positions along \n",
    "# every edge in the path. A difficulty is that we need to concatenate the positions in the right order along our path. \n",
    "# We choose the order based on the fact that the last point in an edge needs to be close to the first point in the \n",
    "# next edge.\n",
    "def get_full_path(path):\n",
    "    \"\"\"Return the positions along a path.\"\"\"\n",
    "    p_list = []\n",
    "    curp = None\n",
    "    for i in range(len(path)-1):\n",
    "        p = get_path(path[i], path[i+1])\n",
    "        if curp is None:\n",
    "            curp = p\n",
    "        if np.sum((p[0]-curp)**2) > np.sum((p[-1]-curp)**2):\n",
    "            p = p[::-1,:]\n",
    "        p_list.append(p)\n",
    "        curp = p[-1]\n",
    "    return np.vstack(p_list)"
   ]
  },
  {
   "cell_type": "code",
   "execution_count": null,
   "metadata": {
    "collapsed": true
   },
   "outputs": [],
   "source": [
    " # We convert the path in pixels in order to display it on the Smopy map.\n",
    "linepath = get_full_path(path)\n",
    "x, y = map.to_pixels(linepath[:,1], linepath[:,0])"
   ]
  },
  {
   "cell_type": "code",
   "execution_count": null,
   "metadata": {
    "collapsed": true
   },
   "outputs": [],
   "source": [
    "# Finally, we display the map, with our two positions and the computed itinerary between them.\n",
    "plt.figure(figsize=(6,6));\n",
    "map.show_mpl();\n",
    "# Plot the itinerary.\n",
    "plt.plot(x, y, '-k', lw=1.5);\n",
    "# Mark our two positions.\n",
    "plt.plot(x[0], y[0], 'ob', ms=10);\n",
    "plt.plot(x[-1], y[-1], 'or', ms=10);"
   ]
  }
 ],
 "metadata": {
  "kernelspec": {
   "display_name": "Python 2",
   "language": "python",
   "name": "python2"
  },
  "language_info": {
   "codemirror_mode": {
    "name": "ipython",
    "version": 2
   },
   "file_extension": ".py",
   "mimetype": "text/x-python",
   "name": "python",
   "nbconvert_exporter": "python",
   "pygments_lexer": "ipython2",
   "version": "2.7.10"
  }
 },
 "nbformat": 4,
 "nbformat_minor": 0
}
